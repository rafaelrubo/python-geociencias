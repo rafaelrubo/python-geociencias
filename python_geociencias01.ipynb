{
  "nbformat": 4,
  "nbformat_minor": 0,
  "metadata": {
    "colab": {
      "provenance": [],
      "authorship_tag": "ABX9TyPAqMKVpGMuCY6bjYSWTyRt",
      "include_colab_link": true
    },
    "kernelspec": {
      "name": "python3",
      "display_name": "Python 3"
    },
    "language_info": {
      "name": "python"
    }
  },
  "cells": [
    {
      "cell_type": "markdown",
      "metadata": {
        "id": "view-in-github",
        "colab_type": "text"
      },
      "source": [
        "<a href=\"https://colab.research.google.com/github/rafaelrubo/python-geociencias/blob/main/python_geociencias01.ipynb\" target=\"_parent\"><img src=\"https://colab.research.google.com/assets/colab-badge.svg\" alt=\"Open In Colab\"/></a>"
      ]
    },
    {
      "cell_type": "markdown",
      "source": [
        "# Python Aplicado às Geociências\n",
        "## Parte 01\n",
        "##### Rafael Rubo\n",
        "##### rafaelrubo@gmail.com\n"
      ],
      "metadata": {
        "id": "5_Ky2vYlF1N9"
      }
    },
    {
      "cell_type": "code",
      "source": [
        "nome = input(\"Digite seu nome: \")\n",
        "print(\"Olá,\", nome)"
      ],
      "metadata": {
        "colab": {
          "base_uri": "https://localhost:8080/"
        },
        "id": "efnKGEcgBmKE",
        "outputId": "19800f23-e352-4b41-9c18-8b8cf9b1f593"
      },
      "execution_count": 13,
      "outputs": [
        {
          "output_type": "stream",
          "name": "stdout",
          "text": [
            "Digite seu nome: Rafael\n",
            "Olá, Rafael\n"
          ]
        }
      ]
    },
    {
      "cell_type": "markdown",
      "source": [],
      "metadata": {
        "id": "H_ZC2seqGFQY"
      }
    },
    {
      "cell_type": "code",
      "source": [
        "temperatura = float(input(\"Digite a temperatura em °C: \"))\n",
        "\n",
        "if temperatura > 100:\n",
        "    print(\"Evaporação iniciada\")\n",
        "elif temperatura < 0:\n",
        "    print(\"Congelado\")\n",
        "else:\n",
        "    print(\"Estado líquido\")"
      ],
      "metadata": {
        "colab": {
          "base_uri": "https://localhost:8080/"
        },
        "id": "4zcTh3zbBpWp",
        "outputId": "d66065eb-ffb5-41ce-a40a-9c30a9ce5705"
      },
      "execution_count": 12,
      "outputs": [
        {
          "output_type": "stream",
          "name": "stdout",
          "text": [
            "Digite a temperatura em °C: 90\n",
            "Estado líquido\n"
          ]
        }
      ]
    },
    {
      "cell_type": "code",
      "source": [
        "for i in range(5):\n",
        "  print(i)"
      ],
      "metadata": {
        "colab": {
          "base_uri": "https://localhost:8080/"
        },
        "id": "bvADr5m9B6s4",
        "outputId": "9ceeac6a-ca25-4ba4-faad-5918ebe84803"
      },
      "execution_count": 15,
      "outputs": [
        {
          "output_type": "stream",
          "name": "stdout",
          "text": [
            "0\n",
            "1\n",
            "2\n",
            "3\n",
            "4\n"
          ]
        }
      ]
    },
    {
      "cell_type": "code",
      "source": [
        "def area_quadrado(lado):\n",
        "    return lado * lado"
      ],
      "metadata": {
        "id": "_HpTfQ0VC0Um"
      },
      "execution_count": 16,
      "outputs": []
    },
    {
      "cell_type": "code",
      "source": [
        "area_quadrado(5)"
      ],
      "metadata": {
        "colab": {
          "base_uri": "https://localhost:8080/"
        },
        "id": "W4c07jmZC5_9",
        "outputId": "3db6fe3a-132a-4e8c-9c38-fe440340d852"
      },
      "execution_count": 17,
      "outputs": [
        {
          "output_type": "execute_result",
          "data": {
            "text/plain": [
              "25"
            ]
          },
          "metadata": {},
          "execution_count": 17
        }
      ]
    },
    {
      "cell_type": "code",
      "source": [
        "print(\"Geociências com Python\")"
      ],
      "metadata": {
        "colab": {
          "base_uri": "https://localhost:8080/"
        },
        "id": "4swsoq7NDOcK",
        "outputId": "a378504a-0bd4-4205-a26a-19d232e247dd"
      },
      "execution_count": 20,
      "outputs": [
        {
          "output_type": "stream",
          "name": "stdout",
          "text": [
            "Geociências com Python\n"
          ]
        }
      ]
    },
    {
      "cell_type": "code",
      "source": [
        "print(\"Idade de uma rocha:\", 120, \"milhões de anos\")"
      ],
      "metadata": {
        "colab": {
          "base_uri": "https://localhost:8080/"
        },
        "id": "Up5A8kTNDTTy",
        "outputId": "921910a3-6004-4dd6-eae9-bccdbda2dadd"
      },
      "execution_count": 23,
      "outputs": [
        {
          "output_type": "stream",
          "name": "stdout",
          "text": [
            "Idade de uma rocha: 120 milhões de anos\n"
          ]
        }
      ]
    },
    {
      "cell_type": "code",
      "source": [
        "a = 10\n",
        "b = 5\n",
        "print(a + b)"
      ],
      "metadata": {
        "colab": {
          "base_uri": "https://localhost:8080/"
        },
        "id": "Q_vmA0c0DHSB",
        "outputId": "51f2baf6-f17c-4397-9a5c-3399f4423b05"
      },
      "execution_count": 18,
      "outputs": [
        {
          "output_type": "stream",
          "name": "stdout",
          "text": [
            "15\n"
          ]
        }
      ]
    },
    {
      "cell_type": "code",
      "source": [
        "print(a - b)  # Subtração  ​\n",
        "\n",
        "print(a * b)  # Multiplicação  ​\n",
        "\n",
        "print(a / b)  # Divisão"
      ],
      "metadata": {
        "colab": {
          "base_uri": "https://localhost:8080/"
        },
        "id": "LIFrtdXODdVX",
        "outputId": "60a03814-4771-40ee-a2ce-b448dc3f07b6"
      },
      "execution_count": 24,
      "outputs": [
        {
          "output_type": "stream",
          "name": "stdout",
          "text": [
            "5\n",
            "50\n",
            "2.0\n"
          ]
        }
      ]
    },
    {
      "cell_type": "code",
      "source": [
        "rochas = [\"granito\", \"basalto\", \"arenito\"]\n",
        "\n",
        "print(rochas)"
      ],
      "metadata": {
        "colab": {
          "base_uri": "https://localhost:8080/"
        },
        "id": "sc3wjfOFDjp9",
        "outputId": "dd3e10c5-2a19-4ec8-f7e4-e9bfe804c78a"
      },
      "execution_count": 27,
      "outputs": [
        {
          "output_type": "stream",
          "name": "stdout",
          "text": [
            "['granito', 'basalto', 'arenito']\n"
          ]
        }
      ]
    },
    {
      "cell_type": "code",
      "source": [
        "print(rochas[0])  # Exibe \"granito\"​\n",
        "\n",
        "print(rochas[1])  # Exibe \"basalto\""
      ],
      "metadata": {
        "colab": {
          "base_uri": "https://localhost:8080/"
        },
        "id": "0aAzj9PRDrxX",
        "outputId": "37845e0a-9168-4e10-ef1c-b41b144bc92e"
      },
      "execution_count": 28,
      "outputs": [
        {
          "output_type": "stream",
          "name": "stdout",
          "text": [
            "granito\n",
            "basalto\n"
          ]
        }
      ]
    },
    {
      "cell_type": "code",
      "source": [
        "rochas.append(\"xisto\")  # Adiciona \"xisto\" à lista  ​\n",
        "\n",
        "rochas.remove(\"arenito\")  # Remove \"arenito\" da lista"
      ],
      "metadata": {
        "id": "LVz_vBwuDuHq"
      },
      "execution_count": 29,
      "outputs": []
    },
    {
      "cell_type": "code",
      "source": [
        "print(rochas)"
      ],
      "metadata": {
        "colab": {
          "base_uri": "https://localhost:8080/"
        },
        "id": "_mfF1K8kDxK-",
        "outputId": "a7c2942e-9368-4891-d070-785a3b7f67e5"
      },
      "execution_count": 30,
      "outputs": [
        {
          "output_type": "stream",
          "name": "stdout",
          "text": [
            "['granito', 'basalto', 'xisto']\n"
          ]
        }
      ]
    },
    {
      "cell_type": "code",
      "source": [
        "rocha = \"granito\"\n",
        "\n",
        "print(rocha.upper())"
      ],
      "metadata": {
        "colab": {
          "base_uri": "https://localhost:8080/"
        },
        "id": "uorqBCEmD4ma",
        "outputId": "d6e5264b-f7e0-4c60-a175-47378dbf7c3b"
      },
      "execution_count": 31,
      "outputs": [
        {
          "output_type": "stream",
          "name": "stdout",
          "text": [
            "GRANITO\n"
          ]
        }
      ]
    },
    {
      "cell_type": "code",
      "source": [
        "print(rocha.lower())\n",
        "# Converte para letras minúsculas: \"granito\"  ​\n",
        "\n",
        "print(rocha.capitalize())\n",
        "# Primeira letra maiúscula: \"Granito\"  ​\n",
        "\n",
        "print(len(rocha))\n",
        "# Comprimento da string: 7"
      ],
      "metadata": {
        "colab": {
          "base_uri": "https://localhost:8080/"
        },
        "id": "uIJ7qCsDD7XA",
        "outputId": "96eb9653-005d-4049-e157-2aab9769fc67"
      },
      "execution_count": 32,
      "outputs": [
        {
          "output_type": "stream",
          "name": "stdout",
          "text": [
            "granito\n",
            "Granito\n",
            "7\n"
          ]
        }
      ]
    },
    {
      "cell_type": "code",
      "source": [
        "profundidade = 200\n",
        "\n",
        "if profundidade > 100:\n",
        "    print(\"Camada profunda\")"
      ],
      "metadata": {
        "colab": {
          "base_uri": "https://localhost:8080/"
        },
        "id": "5-8oyjFaEPTJ",
        "outputId": "e93a4ca4-fb6b-4f6d-c08a-c60aa95a916d"
      },
      "execution_count": 33,
      "outputs": [
        {
          "output_type": "stream",
          "name": "stdout",
          "text": [
            "Camada profunda\n"
          ]
        }
      ]
    },
    {
      "cell_type": "code",
      "source": [
        "profundidade = 30"
      ],
      "metadata": {
        "id": "FfcEVVqCEfVm"
      },
      "execution_count": 35,
      "outputs": []
    },
    {
      "cell_type": "code",
      "source": [
        "if profundidade > 300:\n",
        "    print(\"Camada muito profunda\")\n",
        "\n",
        "elif profundidade > 100:\n",
        "    print(\"Camada profunda\")\n",
        "\n",
        "else:\n",
        "    print(\"Camada rasa\")"
      ],
      "metadata": {
        "colab": {
          "base_uri": "https://localhost:8080/"
        },
        "id": "LLfzw3MWEX4J",
        "outputId": "d677bb29-7428-47ec-8cc6-5dbae2c23e9a"
      },
      "execution_count": 36,
      "outputs": [
        {
          "output_type": "stream",
          "name": "stdout",
          "text": [
            "Camada rasa\n"
          ]
        }
      ]
    },
    {
      "cell_type": "code",
      "source": [
        "import numpy as np\n",
        "\n",
        "print(np.mean([10, 20]))"
      ],
      "metadata": {
        "colab": {
          "base_uri": "https://localhost:8080/"
        },
        "id": "eThitPAyE3za",
        "outputId": "a24742d5-aed6-43ee-c1b9-6e2dd5f4ac06"
      },
      "execution_count": 38,
      "outputs": [
        {
          "output_type": "stream",
          "name": "stdout",
          "text": [
            "15.0\n"
          ]
        }
      ]
    },
    {
      "cell_type": "code",
      "source": [
        "print(np.min([10, 20, 30]))  # Valor mínimo: 10  ​\n",
        "\n",
        "print(np.max([10, 20, 30]))  # Valor máximo: 30  ​\n",
        "\n",
        "print(np.std([10, 20, 30]))  # Desvio padrão"
      ],
      "metadata": {
        "colab": {
          "base_uri": "https://localhost:8080/"
        },
        "id": "oN7czgT0FI5I",
        "outputId": "9ff3af44-f2df-4bf6-e2e0-c5b06e5f3c20"
      },
      "execution_count": 39,
      "outputs": [
        {
          "output_type": "stream",
          "name": "stdout",
          "text": [
            "10\n",
            "30\n",
            "8.16496580927726\n"
          ]
        }
      ]
    }
  ]
}