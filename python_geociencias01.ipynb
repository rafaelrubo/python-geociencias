{
  "nbformat": 4,
  "nbformat_minor": 0,
  "metadata": {
    "colab": {
      "provenance": [],
      "authorship_tag": "ABX9TyNV+we+4HfYIH7IVnzCPkcf",
      "include_colab_link": true
    },
    "kernelspec": {
      "name": "python3",
      "display_name": "Python 3"
    },
    "language_info": {
      "name": "python"
    }
  },
  "cells": [
    {
      "cell_type": "markdown",
      "metadata": {
        "id": "view-in-github",
        "colab_type": "text"
      },
      "source": [
        "<a href=\"https://colab.research.google.com/github/rafaelrubo/python-geociencias/blob/main/python_geociencias01.ipynb\" target=\"_parent\"><img src=\"https://colab.research.google.com/assets/colab-badge.svg\" alt=\"Open In Colab\"/></a>"
      ]
    },
    {
      "cell_type": "markdown",
      "source": [
        "# Python Aplicado às Geociências\n",
        "## Parte 01\n",
        "##### Rafael Rubo\n",
        "##### rafaelrubo@gmail.com\n"
      ],
      "metadata": {
        "id": "5_Ky2vYlF1N9"
      }
    },
    {
      "cell_type": "code",
      "source": [
        "nome = input(\"Digite seu nome: \")\n",
        "print(\"Olá,\", nome)"
      ],
      "metadata": {
        "colab": {
          "base_uri": "https://localhost:8080/"
        },
        "id": "efnKGEcgBmKE",
        "outputId": "4bb0439d-d374-411e-e695-9646a122ad4d"
      },
      "execution_count": 1,
      "outputs": [
        {
          "output_type": "stream",
          "name": "stdout",
          "text": [
            "Digite seu nome: Rafael\n",
            "Olá, Rafael\n"
          ]
        }
      ]
    },
    {
      "cell_type": "markdown",
      "source": [],
      "metadata": {
        "id": "H_ZC2seqGFQY"
      }
    },
    {
      "cell_type": "code",
      "source": [
        "temperatura = float(input(\"Digite a temperatura em °C: \"))\n",
        "\n",
        "if temperatura > 100:\n",
        "    print(\"Evaporação iniciada\")\n",
        "elif temperatura < 0:\n",
        "    print(\"Congelado\")\n",
        "else:\n",
        "    print(\"Estado líquido\")"
      ],
      "metadata": {
        "colab": {
          "base_uri": "https://localhost:8080/"
        },
        "id": "4zcTh3zbBpWp",
        "outputId": "d495ada6-3aee-4704-9109-1303958677f2"
      },
      "execution_count": 2,
      "outputs": [
        {
          "output_type": "stream",
          "name": "stdout",
          "text": [
            "Digite a temperatura em °C: 90\n",
            "Estado líquido\n"
          ]
        }
      ]
    },
    {
      "cell_type": "code",
      "source": [
        "for i in range(5):\n",
        "  print(i)"
      ],
      "metadata": {
        "colab": {
          "base_uri": "https://localhost:8080/"
        },
        "id": "bvADr5m9B6s4",
        "outputId": "c0d86455-1c0e-4252-ef38-591c9ad57b30"
      },
      "execution_count": 3,
      "outputs": [
        {
          "output_type": "stream",
          "name": "stdout",
          "text": [
            "0\n",
            "1\n",
            "2\n",
            "3\n",
            "4\n"
          ]
        }
      ]
    },
    {
      "cell_type": "code",
      "source": [
        "def area_quadrado(lado):\n",
        "    return lado * lado"
      ],
      "metadata": {
        "id": "_HpTfQ0VC0Um"
      },
      "execution_count": 4,
      "outputs": []
    },
    {
      "cell_type": "code",
      "source": [
        "area_quadrado(5)"
      ],
      "metadata": {
        "colab": {
          "base_uri": "https://localhost:8080/"
        },
        "id": "W4c07jmZC5_9",
        "outputId": "db81a805-c1fa-4040-b708-b64ec63f1f07"
      },
      "execution_count": 5,
      "outputs": [
        {
          "output_type": "execute_result",
          "data": {
            "text/plain": [
              "25"
            ]
          },
          "metadata": {},
          "execution_count": 5
        }
      ]
    },
    {
      "cell_type": "code",
      "source": [
        "class Carro:\n",
        "    def __init__(self, modelo, cor):\n",
        "        self.modelo = modelo\n",
        "        self.cor = cor\n",
        "\n",
        "    def ligar(self):\n",
        "        print(f\"{self.modelo} está ligado.\")"
      ],
      "metadata": {
        "id": "o6qkvvw2gI_I"
      },
      "execution_count": 6,
      "outputs": []
    },
    {
      "cell_type": "code",
      "source": [
        "# Criando um objeto\n",
        "meu_carro = Carro(\"Corolla\", \"prata\")\n",
        "meu_carro.ligar()"
      ],
      "metadata": {
        "id": "xMO7BXH9gPj3",
        "outputId": "8ff89c56-5a77-4940-9712-7c0980b8c4d2",
        "colab": {
          "base_uri": "https://localhost:8080/"
        }
      },
      "execution_count": 7,
      "outputs": [
        {
          "output_type": "stream",
          "name": "stdout",
          "text": [
            "Corolla está ligado.\n"
          ]
        }
      ]
    },
    {
      "cell_type": "code",
      "source": [
        "print(\"Geociências com Python\")"
      ],
      "metadata": {
        "colab": {
          "base_uri": "https://localhost:8080/"
        },
        "id": "4swsoq7NDOcK",
        "outputId": "f4d07fa3-5d97-4c1a-c52b-ce38d05bebb7"
      },
      "execution_count": 8,
      "outputs": [
        {
          "output_type": "stream",
          "name": "stdout",
          "text": [
            "Geociências com Python\n"
          ]
        }
      ]
    },
    {
      "cell_type": "code",
      "source": [
        "print(\"Idade de uma rocha:\", 120, \"milhões de anos\")"
      ],
      "metadata": {
        "colab": {
          "base_uri": "https://localhost:8080/"
        },
        "id": "Up5A8kTNDTTy",
        "outputId": "15cec917-0136-4b9c-85cd-ced9901e47a4"
      },
      "execution_count": 9,
      "outputs": [
        {
          "output_type": "stream",
          "name": "stdout",
          "text": [
            "Idade de uma rocha: 120 milhões de anos\n"
          ]
        }
      ]
    },
    {
      "cell_type": "code",
      "source": [
        "a = 10\n",
        "b = 5\n",
        "print(a + b)"
      ],
      "metadata": {
        "colab": {
          "base_uri": "https://localhost:8080/"
        },
        "id": "Q_vmA0c0DHSB",
        "outputId": "d1c3b73d-6022-4aa0-9abd-322d2a0c8166"
      },
      "execution_count": 10,
      "outputs": [
        {
          "output_type": "stream",
          "name": "stdout",
          "text": [
            "15\n"
          ]
        }
      ]
    },
    {
      "cell_type": "code",
      "source": [
        "print(a - b)  # Subtração  ​\n",
        "\n",
        "print(a * b)  # Multiplicação  ​\n",
        "\n",
        "print(a / b)  # Divisão"
      ],
      "metadata": {
        "colab": {
          "base_uri": "https://localhost:8080/"
        },
        "id": "LIFrtdXODdVX",
        "outputId": "2807e2f2-a04e-4578-bc1a-c43f63559ac6"
      },
      "execution_count": 11,
      "outputs": [
        {
          "output_type": "stream",
          "name": "stdout",
          "text": [
            "5\n",
            "50\n",
            "2.0\n"
          ]
        }
      ]
    },
    {
      "cell_type": "code",
      "source": [
        "rochas = [\"granito\", \"basalto\", \"arenito\"]\n",
        "\n",
        "print(rochas)"
      ],
      "metadata": {
        "colab": {
          "base_uri": "https://localhost:8080/"
        },
        "id": "sc3wjfOFDjp9",
        "outputId": "7218e2ec-ce8d-4232-de32-c0f3ca61a0ab"
      },
      "execution_count": 12,
      "outputs": [
        {
          "output_type": "stream",
          "name": "stdout",
          "text": [
            "['granito', 'basalto', 'arenito']\n"
          ]
        }
      ]
    },
    {
      "cell_type": "code",
      "source": [
        "print(rochas[0])  # Exibe \"granito\"​\n",
        "\n",
        "print(rochas[1])  # Exibe \"basalto\""
      ],
      "metadata": {
        "colab": {
          "base_uri": "https://localhost:8080/"
        },
        "id": "0aAzj9PRDrxX",
        "outputId": "d8a52c55-e9a6-435c-a3f6-77c32264f1fb"
      },
      "execution_count": 13,
      "outputs": [
        {
          "output_type": "stream",
          "name": "stdout",
          "text": [
            "granito\n",
            "basalto\n"
          ]
        }
      ]
    },
    {
      "cell_type": "code",
      "source": [
        "rochas.append(\"xisto\")  # Adiciona \"xisto\" à lista  ​\n",
        "\n",
        "rochas.remove(\"arenito\")  # Remove \"arenito\" da lista"
      ],
      "metadata": {
        "id": "LVz_vBwuDuHq"
      },
      "execution_count": 14,
      "outputs": []
    },
    {
      "cell_type": "code",
      "source": [
        "print(rochas)"
      ],
      "metadata": {
        "colab": {
          "base_uri": "https://localhost:8080/"
        },
        "id": "_mfF1K8kDxK-",
        "outputId": "c7f58e7d-162b-47b5-b1cc-59e126f657f9"
      },
      "execution_count": 15,
      "outputs": [
        {
          "output_type": "stream",
          "name": "stdout",
          "text": [
            "['granito', 'basalto', 'xisto']\n"
          ]
        }
      ]
    },
    {
      "cell_type": "code",
      "source": [
        "rocha = \"granito\"\n",
        "\n",
        "print(rocha.upper())"
      ],
      "metadata": {
        "colab": {
          "base_uri": "https://localhost:8080/"
        },
        "id": "uorqBCEmD4ma",
        "outputId": "667a87ca-55cd-48ec-979f-855f32770920"
      },
      "execution_count": 16,
      "outputs": [
        {
          "output_type": "stream",
          "name": "stdout",
          "text": [
            "GRANITO\n"
          ]
        }
      ]
    },
    {
      "cell_type": "code",
      "source": [
        "print(rocha.lower())\n",
        "# Converte para letras minúsculas: \"granito\"  ​\n",
        "\n",
        "print(rocha.capitalize())\n",
        "# Primeira letra maiúscula: \"Granito\"  ​\n",
        "\n",
        "print(len(rocha))\n",
        "# Comprimento da string: 7"
      ],
      "metadata": {
        "colab": {
          "base_uri": "https://localhost:8080/"
        },
        "id": "uIJ7qCsDD7XA",
        "outputId": "c79ed7c4-ff7f-4963-ddad-edeaf705ca73"
      },
      "execution_count": 17,
      "outputs": [
        {
          "output_type": "stream",
          "name": "stdout",
          "text": [
            "granito\n",
            "Granito\n",
            "7\n"
          ]
        }
      ]
    },
    {
      "cell_type": "code",
      "source": [
        "profundidade = 200\n",
        "\n",
        "if profundidade > 100:\n",
        "    print(\"Camada profunda\")"
      ],
      "metadata": {
        "colab": {
          "base_uri": "https://localhost:8080/"
        },
        "id": "5-8oyjFaEPTJ",
        "outputId": "9018cb06-7d64-456e-aab5-3b5790123970"
      },
      "execution_count": 18,
      "outputs": [
        {
          "output_type": "stream",
          "name": "stdout",
          "text": [
            "Camada profunda\n"
          ]
        }
      ]
    },
    {
      "cell_type": "code",
      "source": [
        "profundidade = 30"
      ],
      "metadata": {
        "id": "FfcEVVqCEfVm"
      },
      "execution_count": 19,
      "outputs": []
    },
    {
      "cell_type": "code",
      "source": [
        "if profundidade > 300:\n",
        "    print(\"Camada muito profunda\")\n",
        "\n",
        "elif profundidade > 100:\n",
        "    print(\"Camada profunda\")\n",
        "\n",
        "else:\n",
        "    print(\"Camada rasa\")"
      ],
      "metadata": {
        "colab": {
          "base_uri": "https://localhost:8080/"
        },
        "id": "LLfzw3MWEX4J",
        "outputId": "75b59b47-98a4-40a6-d185-281ec240714f"
      },
      "execution_count": 20,
      "outputs": [
        {
          "output_type": "stream",
          "name": "stdout",
          "text": [
            "Camada rasa\n"
          ]
        }
      ]
    },
    {
      "cell_type": "code",
      "source": [
        "import numpy as np\n",
        "\n",
        "print(np.mean([10, 20]))"
      ],
      "metadata": {
        "colab": {
          "base_uri": "https://localhost:8080/"
        },
        "id": "eThitPAyE3za",
        "outputId": "9371a6fe-717b-49f5-dc1b-2c25b0afe671"
      },
      "execution_count": 21,
      "outputs": [
        {
          "output_type": "stream",
          "name": "stdout",
          "text": [
            "15.0\n"
          ]
        }
      ]
    },
    {
      "cell_type": "code",
      "source": [
        "print(np.min([10, 20, 30]))  # Valor mínimo: 10  ​\n",
        "\n",
        "print(np.max([10, 20, 30]))  # Valor máximo: 30  ​\n",
        "\n",
        "print(np.std([10, 20, 30]))  # Desvio padrão"
      ],
      "metadata": {
        "colab": {
          "base_uri": "https://localhost:8080/"
        },
        "id": "oN7czgT0FI5I",
        "outputId": "c8eca6d9-856d-4ee5-fce8-799d05b527df"
      },
      "execution_count": 22,
      "outputs": [
        {
          "output_type": "stream",
          "name": "stdout",
          "text": [
            "10\n",
            "30\n",
            "8.16496580927726\n"
          ]
        }
      ]
    }
  ]
}