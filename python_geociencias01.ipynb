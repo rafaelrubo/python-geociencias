{
  "nbformat": 4,
  "nbformat_minor": 0,
  "metadata": {
    "colab": {
      "provenance": [],
      "authorship_tag": "ABX9TyPAqMKVpGMuCY6bjYSWTyRt",
      "include_colab_link": true
    },
    "kernelspec": {
      "name": "python3",
      "display_name": "Python 3"
    },
    "language_info": {
      "name": "python"
    }
  },
  "cells": [
    {
      "cell_type": "markdown",
      "metadata": {
        "id": "view-in-github",
        "colab_type": "text"
      },
      "source": [
        "<a href=\"https://colab.research.google.com/github/rafaelrubo/python-geociencias/blob/main/python_geociencias01.ipynb\" target=\"_parent\"><img src=\"https://colab.research.google.com/assets/colab-badge.svg\" alt=\"Open In Colab\"/></a>"
      ]
    },
    {
      "cell_type": "markdown",
      "source": [
        "# Python Aplicado às Geociências\n",
        "## Parte 01\n",
        "##### Rafael Rubo\n",
        "##### rafaelrubo@gmail.com\n"
      ],
      "metadata": {
        "id": "5_Ky2vYlF1N9"
      }
    },
    {
      "cell_type": "code",
      "source": [
        "nome = input(\"Digite seu nome: \")\n",
        "print(\"Olá,\", nome)"
      ],
      "metadata": {
        "colab": {
          "base_uri": "https://localhost:8080/"
        },
        "id": "efnKGEcgBmKE",
        "outputId": "b1150f5a-2f98-48af-de20-e04185c9197b"
      },
      "execution_count": 1,
      "outputs": [
        {
          "output_type": "stream",
          "name": "stdout",
          "text": [
            "Digite seu nome: Rafael\n",
            "Olá, Rafael\n"
          ]
        }
      ]
    },
    {
      "cell_type": "markdown",
      "source": [],
      "metadata": {
        "id": "H_ZC2seqGFQY"
      }
    },
    {
      "cell_type": "code",
      "source": [
        "temperatura = float(input(\"Digite a temperatura em °C: \"))\n",
        "\n",
        "if temperatura > 100:\n",
        "    print(\"Evaporação iniciada\")\n",
        "elif temperatura < 0:\n",
        "    print(\"Congelado\")\n",
        "else:\n",
        "    print(\"Estado líquido\")"
      ],
      "metadata": {
        "colab": {
          "base_uri": "https://localhost:8080/"
        },
        "id": "4zcTh3zbBpWp",
        "outputId": "1d48670a-4811-450f-fa17-18b82e58d936"
      },
      "execution_count": 2,
      "outputs": [
        {
          "output_type": "stream",
          "name": "stdout",
          "text": [
            "Digite a temperatura em °C: 90\n",
            "Estado líquido\n"
          ]
        }
      ]
    },
    {
      "cell_type": "code",
      "source": [
        "for i in range(5):\n",
        "  print(i)"
      ],
      "metadata": {
        "colab": {
          "base_uri": "https://localhost:8080/"
        },
        "id": "bvADr5m9B6s4",
        "outputId": "efaf7a5a-f13e-4907-bed9-67aae2782719"
      },
      "execution_count": 3,
      "outputs": [
        {
          "output_type": "stream",
          "name": "stdout",
          "text": [
            "0\n",
            "1\n",
            "2\n",
            "3\n",
            "4\n"
          ]
        }
      ]
    },
    {
      "cell_type": "code",
      "source": [
        "def area_quadrado(lado):\n",
        "    return lado * lado"
      ],
      "metadata": {
        "id": "_HpTfQ0VC0Um"
      },
      "execution_count": 4,
      "outputs": []
    },
    {
      "cell_type": "code",
      "source": [
        "area_quadrado(5)"
      ],
      "metadata": {
        "colab": {
          "base_uri": "https://localhost:8080/"
        },
        "id": "W4c07jmZC5_9",
        "outputId": "02fbcc56-7c4a-489f-8cf4-75cac4f19409"
      },
      "execution_count": 5,
      "outputs": [
        {
          "output_type": "execute_result",
          "data": {
            "text/plain": [
              "25"
            ]
          },
          "metadata": {},
          "execution_count": 5
        }
      ]
    },
    {
      "cell_type": "code",
      "source": [
        "print(\"Geociências com Python\")"
      ],
      "metadata": {
        "colab": {
          "base_uri": "https://localhost:8080/"
        },
        "id": "4swsoq7NDOcK",
        "outputId": "45dbc23a-8790-418a-e991-c6cf8f739c06"
      },
      "execution_count": 6,
      "outputs": [
        {
          "output_type": "stream",
          "name": "stdout",
          "text": [
            "Geociências com Python\n"
          ]
        }
      ]
    },
    {
      "cell_type": "code",
      "source": [
        "print(\"Idade de uma rocha:\", 120, \"milhões de anos\")"
      ],
      "metadata": {
        "colab": {
          "base_uri": "https://localhost:8080/"
        },
        "id": "Up5A8kTNDTTy",
        "outputId": "8fb323fb-32a0-4477-a44a-02ad1ffe4aff"
      },
      "execution_count": 7,
      "outputs": [
        {
          "output_type": "stream",
          "name": "stdout",
          "text": [
            "Idade de uma rocha: 120 milhões de anos\n"
          ]
        }
      ]
    },
    {
      "cell_type": "code",
      "source": [
        "a = 10\n",
        "b = 5\n",
        "print(a + b)"
      ],
      "metadata": {
        "colab": {
          "base_uri": "https://localhost:8080/"
        },
        "id": "Q_vmA0c0DHSB",
        "outputId": "8174249c-85aa-4545-fefa-12769a28fc91"
      },
      "execution_count": 8,
      "outputs": [
        {
          "output_type": "stream",
          "name": "stdout",
          "text": [
            "15\n"
          ]
        }
      ]
    },
    {
      "cell_type": "code",
      "source": [
        "print(a - b)  # Subtração  ​\n",
        "\n",
        "print(a * b)  # Multiplicação  ​\n",
        "\n",
        "print(a / b)  # Divisão"
      ],
      "metadata": {
        "colab": {
          "base_uri": "https://localhost:8080/"
        },
        "id": "LIFrtdXODdVX",
        "outputId": "f6c3a321-0d07-4a3f-f2d4-c96627d63159"
      },
      "execution_count": 9,
      "outputs": [
        {
          "output_type": "stream",
          "name": "stdout",
          "text": [
            "5\n",
            "50\n",
            "2.0\n"
          ]
        }
      ]
    },
    {
      "cell_type": "code",
      "source": [
        "rochas = [\"granito\", \"basalto\", \"arenito\"]\n",
        "\n",
        "print(rochas)"
      ],
      "metadata": {
        "colab": {
          "base_uri": "https://localhost:8080/"
        },
        "id": "sc3wjfOFDjp9",
        "outputId": "fe2c3dfb-8ad5-45a4-aa9d-0677be2aca91"
      },
      "execution_count": 10,
      "outputs": [
        {
          "output_type": "stream",
          "name": "stdout",
          "text": [
            "['granito', 'basalto', 'arenito']\n"
          ]
        }
      ]
    },
    {
      "cell_type": "code",
      "source": [
        "print(rochas[0])  # Exibe \"granito\"​\n",
        "\n",
        "print(rochas[1])  # Exibe \"basalto\""
      ],
      "metadata": {
        "colab": {
          "base_uri": "https://localhost:8080/"
        },
        "id": "0aAzj9PRDrxX",
        "outputId": "1bac4ddc-20b4-44e8-8b10-eb71fbd7600b"
      },
      "execution_count": 11,
      "outputs": [
        {
          "output_type": "stream",
          "name": "stdout",
          "text": [
            "granito\n",
            "basalto\n"
          ]
        }
      ]
    },
    {
      "cell_type": "code",
      "source": [
        "rochas.append(\"xisto\")  # Adiciona \"xisto\" à lista  ​\n",
        "\n",
        "rochas.remove(\"arenito\")  # Remove \"arenito\" da lista"
      ],
      "metadata": {
        "id": "LVz_vBwuDuHq"
      },
      "execution_count": 12,
      "outputs": []
    },
    {
      "cell_type": "code",
      "source": [
        "print(rochas)"
      ],
      "metadata": {
        "colab": {
          "base_uri": "https://localhost:8080/"
        },
        "id": "_mfF1K8kDxK-",
        "outputId": "be6ff66e-4bd9-4ae6-c909-4d28418a44e1"
      },
      "execution_count": 13,
      "outputs": [
        {
          "output_type": "stream",
          "name": "stdout",
          "text": [
            "['granito', 'basalto', 'xisto']\n"
          ]
        }
      ]
    },
    {
      "cell_type": "code",
      "source": [
        "rocha = \"granito\"\n",
        "\n",
        "print(rocha.upper())"
      ],
      "metadata": {
        "colab": {
          "base_uri": "https://localhost:8080/"
        },
        "id": "uorqBCEmD4ma",
        "outputId": "628fbdd1-c8e6-4798-f4f7-bb80dbb93dbe"
      },
      "execution_count": 14,
      "outputs": [
        {
          "output_type": "stream",
          "name": "stdout",
          "text": [
            "GRANITO\n"
          ]
        }
      ]
    },
    {
      "cell_type": "code",
      "source": [
        "print(rocha.lower())\n",
        "# Converte para letras minúsculas: \"granito\"  ​\n",
        "\n",
        "print(rocha.capitalize())\n",
        "# Primeira letra maiúscula: \"Granito\"  ​\n",
        "\n",
        "print(len(rocha))\n",
        "# Comprimento da string: 7"
      ],
      "metadata": {
        "colab": {
          "base_uri": "https://localhost:8080/"
        },
        "id": "uIJ7qCsDD7XA",
        "outputId": "5860caf4-755f-4b78-e7a5-3c45a77a10db"
      },
      "execution_count": 15,
      "outputs": [
        {
          "output_type": "stream",
          "name": "stdout",
          "text": [
            "granito\n",
            "Granito\n",
            "7\n"
          ]
        }
      ]
    },
    {
      "cell_type": "code",
      "source": [
        "profundidade = 200\n",
        "\n",
        "if profundidade > 100:\n",
        "    print(\"Camada profunda\")"
      ],
      "metadata": {
        "colab": {
          "base_uri": "https://localhost:8080/"
        },
        "id": "5-8oyjFaEPTJ",
        "outputId": "55532dce-659f-4958-aab1-d0e5611331bd"
      },
      "execution_count": 16,
      "outputs": [
        {
          "output_type": "stream",
          "name": "stdout",
          "text": [
            "Camada profunda\n"
          ]
        }
      ]
    },
    {
      "cell_type": "code",
      "source": [
        "profundidade = 30"
      ],
      "metadata": {
        "id": "FfcEVVqCEfVm"
      },
      "execution_count": 17,
      "outputs": []
    },
    {
      "cell_type": "code",
      "source": [
        "if profundidade > 300:\n",
        "    print(\"Camada muito profunda\")\n",
        "\n",
        "elif profundidade > 100:\n",
        "    print(\"Camada profunda\")\n",
        "\n",
        "else:\n",
        "    print(\"Camada rasa\")"
      ],
      "metadata": {
        "colab": {
          "base_uri": "https://localhost:8080/"
        },
        "id": "LLfzw3MWEX4J",
        "outputId": "b54f873c-2491-471c-ac47-3af5670f2435"
      },
      "execution_count": 18,
      "outputs": [
        {
          "output_type": "stream",
          "name": "stdout",
          "text": [
            "Camada rasa\n"
          ]
        }
      ]
    },
    {
      "cell_type": "code",
      "source": [
        "import numpy as np\n",
        "\n",
        "print(np.mean([10, 20]))"
      ],
      "metadata": {
        "colab": {
          "base_uri": "https://localhost:8080/"
        },
        "id": "eThitPAyE3za",
        "outputId": "965397b3-550b-4cef-e337-a2b37569422d"
      },
      "execution_count": 19,
      "outputs": [
        {
          "output_type": "stream",
          "name": "stdout",
          "text": [
            "15.0\n"
          ]
        }
      ]
    },
    {
      "cell_type": "code",
      "source": [
        "print(np.min([10, 20, 30]))  # Valor mínimo: 10  ​\n",
        "\n",
        "print(np.max([10, 20, 30]))  # Valor máximo: 30  ​\n",
        "\n",
        "print(np.std([10, 20, 30]))  # Desvio padrão"
      ],
      "metadata": {
        "colab": {
          "base_uri": "https://localhost:8080/"
        },
        "id": "oN7czgT0FI5I",
        "outputId": "a8410ede-cb22-43eb-e467-94b2d2b4690a"
      },
      "execution_count": 20,
      "outputs": [
        {
          "output_type": "stream",
          "name": "stdout",
          "text": [
            "10\n",
            "30\n",
            "8.16496580927726\n"
          ]
        }
      ]
    }
  ]
}