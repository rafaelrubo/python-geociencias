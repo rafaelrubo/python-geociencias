{
  "nbformat": 4,
  "nbformat_minor": 0,
  "metadata": {
    "colab": {
      "provenance": [],
      "mount_file_id": "1A0EGm0n7b9-hqns3Fdh1P3yfgRj6HTAl",
      "authorship_tag": "ABX9TyNgNWZA1M9gUTeKAyTrDDnH",
      "include_colab_link": true
    },
    "kernelspec": {
      "name": "python3",
      "display_name": "Python 3"
    },
    "language_info": {
      "name": "python"
    }
  },
  "cells": [
    {
      "cell_type": "markdown",
      "metadata": {
        "id": "view-in-github",
        "colab_type": "text"
      },
      "source": [
        "<a href=\"https://colab.research.google.com/github/rafaelrubo/python-geociencias/blob/main/python_geociencias06.ipynb\" target=\"_parent\"><img src=\"https://colab.research.google.com/assets/colab-badge.svg\" alt=\"Open In Colab\"/></a>"
      ]
    },
    {
      "cell_type": "code",
      "execution_count": 1,
      "metadata": {
        "colab": {
          "base_uri": "https://localhost:8080/",
          "height": 460
        },
        "id": "jxszFJomzgp8",
        "outputId": "2dbde2bc-4daf-43ed-9407-6ea49fa47657"
      },
      "outputs": [
        {
          "output_type": "error",
          "ename": "FileNotFoundError",
          "evalue": "[Errno 2] No such file or directory: 'imagem.tif'",
          "traceback": [
            "\u001b[0;31m---------------------------------------------------------------------------\u001b[0m",
            "\u001b[0;31mFileNotFoundError\u001b[0m                         Traceback (most recent call last)",
            "\u001b[0;32m/tmp/ipython-input-1647900213.py\u001b[0m in \u001b[0;36m<cell line: 0>\u001b[0;34m()\u001b[0m\n\u001b[1;32m      2\u001b[0m \u001b[0;34m\u001b[0m\u001b[0m\n\u001b[1;32m      3\u001b[0m \u001b[0;31m# Carregando imagem RGB​\u001b[0m\u001b[0;34m\u001b[0m\u001b[0;34m\u001b[0m\u001b[0m\n\u001b[0;32m----> 4\u001b[0;31m \u001b[0mimg\u001b[0m \u001b[0;34m=\u001b[0m \u001b[0mplt\u001b[0m\u001b[0;34m.\u001b[0m\u001b[0mimread\u001b[0m\u001b[0;34m(\u001b[0m\u001b[0;34m\"imagem.tif\"\u001b[0m\u001b[0;34m)\u001b[0m\u001b[0;34m\u001b[0m\u001b[0;34m\u001b[0m\u001b[0m\n\u001b[0m",
            "\u001b[0;32m/usr/local/lib/python3.11/dist-packages/matplotlib/pyplot.py\u001b[0m in \u001b[0;36mimread\u001b[0;34m(fname, format)\u001b[0m\n\u001b[1;32m   2611\u001b[0m         \u001b[0mfname\u001b[0m\u001b[0;34m:\u001b[0m \u001b[0mstr\u001b[0m \u001b[0;34m|\u001b[0m \u001b[0mpathlib\u001b[0m\u001b[0;34m.\u001b[0m\u001b[0mPath\u001b[0m \u001b[0;34m|\u001b[0m \u001b[0mBinaryIO\u001b[0m\u001b[0;34m,\u001b[0m \u001b[0mformat\u001b[0m\u001b[0;34m:\u001b[0m \u001b[0mstr\u001b[0m \u001b[0;34m|\u001b[0m \u001b[0;32mNone\u001b[0m \u001b[0;34m=\u001b[0m \u001b[0;32mNone\u001b[0m\u001b[0;34m\u001b[0m\u001b[0;34m\u001b[0m\u001b[0m\n\u001b[1;32m   2612\u001b[0m ) -> np.ndarray:\n\u001b[0;32m-> 2613\u001b[0;31m     \u001b[0;32mreturn\u001b[0m \u001b[0mmatplotlib\u001b[0m\u001b[0;34m.\u001b[0m\u001b[0mimage\u001b[0m\u001b[0;34m.\u001b[0m\u001b[0mimread\u001b[0m\u001b[0;34m(\u001b[0m\u001b[0mfname\u001b[0m\u001b[0;34m,\u001b[0m \u001b[0mformat\u001b[0m\u001b[0;34m)\u001b[0m\u001b[0;34m\u001b[0m\u001b[0;34m\u001b[0m\u001b[0m\n\u001b[0m\u001b[1;32m   2614\u001b[0m \u001b[0;34m\u001b[0m\u001b[0m\n\u001b[1;32m   2615\u001b[0m \u001b[0;34m\u001b[0m\u001b[0m\n",
            "\u001b[0;32m/usr/local/lib/python3.11/dist-packages/matplotlib/image.py\u001b[0m in \u001b[0;36mimread\u001b[0;34m(fname, format)\u001b[0m\n\u001b[1;32m   1500\u001b[0m             \u001b[0;34m\"``np.array(PIL.Image.open(urllib.request.urlopen(url)))``.\"\u001b[0m\u001b[0;34m\u001b[0m\u001b[0;34m\u001b[0m\u001b[0m\n\u001b[1;32m   1501\u001b[0m             )\n\u001b[0;32m-> 1502\u001b[0;31m     \u001b[0;32mwith\u001b[0m \u001b[0mimg_open\u001b[0m\u001b[0;34m(\u001b[0m\u001b[0mfname\u001b[0m\u001b[0;34m)\u001b[0m \u001b[0;32mas\u001b[0m \u001b[0mimage\u001b[0m\u001b[0;34m:\u001b[0m\u001b[0;34m\u001b[0m\u001b[0;34m\u001b[0m\u001b[0m\n\u001b[0m\u001b[1;32m   1503\u001b[0m         return (_pil_png_to_float_array(image)\n\u001b[1;32m   1504\u001b[0m                 \u001b[0;32mif\u001b[0m \u001b[0misinstance\u001b[0m\u001b[0;34m(\u001b[0m\u001b[0mimage\u001b[0m\u001b[0;34m,\u001b[0m \u001b[0mPIL\u001b[0m\u001b[0;34m.\u001b[0m\u001b[0mPngImagePlugin\u001b[0m\u001b[0;34m.\u001b[0m\u001b[0mPngImageFile\u001b[0m\u001b[0;34m)\u001b[0m \u001b[0;32melse\u001b[0m\u001b[0;34m\u001b[0m\u001b[0;34m\u001b[0m\u001b[0m\n",
            "\u001b[0;32m/usr/local/lib/python3.11/dist-packages/PIL/Image.py\u001b[0m in \u001b[0;36mopen\u001b[0;34m(fp, mode, formats)\u001b[0m\n\u001b[1;32m   3511\u001b[0m     \u001b[0;32mif\u001b[0m \u001b[0mis_path\u001b[0m\u001b[0;34m(\u001b[0m\u001b[0mfp\u001b[0m\u001b[0;34m)\u001b[0m\u001b[0;34m:\u001b[0m\u001b[0;34m\u001b[0m\u001b[0;34m\u001b[0m\u001b[0m\n\u001b[1;32m   3512\u001b[0m         \u001b[0mfilename\u001b[0m \u001b[0;34m=\u001b[0m \u001b[0mos\u001b[0m\u001b[0;34m.\u001b[0m\u001b[0mfspath\u001b[0m\u001b[0;34m(\u001b[0m\u001b[0mfp\u001b[0m\u001b[0;34m)\u001b[0m\u001b[0;34m\u001b[0m\u001b[0;34m\u001b[0m\u001b[0m\n\u001b[0;32m-> 3513\u001b[0;31m         \u001b[0mfp\u001b[0m \u001b[0;34m=\u001b[0m \u001b[0mbuiltins\u001b[0m\u001b[0;34m.\u001b[0m\u001b[0mopen\u001b[0m\u001b[0;34m(\u001b[0m\u001b[0mfilename\u001b[0m\u001b[0;34m,\u001b[0m \u001b[0;34m\"rb\"\u001b[0m\u001b[0;34m)\u001b[0m\u001b[0;34m\u001b[0m\u001b[0;34m\u001b[0m\u001b[0m\n\u001b[0m\u001b[1;32m   3514\u001b[0m         \u001b[0mexclusive_fp\u001b[0m \u001b[0;34m=\u001b[0m \u001b[0;32mTrue\u001b[0m\u001b[0;34m\u001b[0m\u001b[0;34m\u001b[0m\u001b[0m\n\u001b[1;32m   3515\u001b[0m     \u001b[0;32melse\u001b[0m\u001b[0;34m:\u001b[0m\u001b[0;34m\u001b[0m\u001b[0;34m\u001b[0m\u001b[0m\n",
            "\u001b[0;31mFileNotFoundError\u001b[0m: [Errno 2] No such file or directory: 'imagem.tif'"
          ]
        }
      ],
      "source": [
        "import matplotlib.pyplot as plt\n",
        "\n",
        "# Carregando imagem RGB​\n",
        "img = plt.imread(\"imagem.tif\")"
      ]
    },
    {
      "cell_type": "code",
      "source": [
        "# Separar os canais da imagem\n",
        "R = img[:, :, 0]\n",
        "G = img[:, :, 1]\n",
        "B = img[:, :, 2]\n",
        "\n",
        "# Filtro Sobel (realce de bordas)\n",
        "sobel_R = sobel(R)\n",
        "sobel_G = sobel(G)\n",
        "sobel_B = sobel(B)\n",
        "\n",
        "# Filtro Gaussiano (suavização, sigma=1)\n",
        "gauss_R = gaussian_filter(R, sigma=1)\n",
        "gauss_G = gaussian_filter(G, sigma=1)\n",
        "gauss_B = gaussian_filter(B, sigma=1)\n",
        "\n",
        "# Diferença de Gaussianas (DoG = Gauss(sigma=1) - Gauss(sigma=2))\n",
        "dog_R = gaussian_filter(R, sigma=1) - gaussian_filter(R, sigma=2)\n",
        "dog_G = gaussian_filter(G, sigma=1) - gaussian_filter(G, sigma=2)\n",
        "dog_B = gaussian_filter(B, sigma=1) - gaussian_filter(B, sigma=2)\n",
        "\n",
        "# Aprox. da Hessiana: traço da matriz Hessiana via Laplaciano (segunda derivada)\n",
        "hess_R = laplace(R)\n",
        "hess_G = laplace(G)\n",
        "hess_B = laplace(B)\n",
        "\n",
        "# Empilhar todos os atributos por pixel (15 variáveis)\n",
        "X = np.stack([\n",
        "    R.ravel(), G.ravel(), B.ravel(),                          # 3\n",
        "    sobel_R.ravel(), sobel_G.ravel(), sobel_B.ravel(),        # 3\n",
        "    gauss_R.ravel(), gauss_G.ravel(), gauss_B.ravel(),        # 3\n",
        "    dog_R.ravel(), dog_G.ravel(), dog_B.ravel(),              # 3\n",
        "    hess_R.ravel(), hess_G.ravel(), hess_B.ravel()            # 3\n",
        "], axis=1)"
      ],
      "metadata": {
        "id": "Q7HNIVGg0SHP"
      },
      "execution_count": null,
      "outputs": []
    },
    {
      "cell_type": "code",
      "source": [
        "from google.colab import drive\n",
        "drive.mount('/content/drive')"
      ],
      "metadata": {
        "id": "QaY7rX5x4wYf"
      },
      "execution_count": null,
      "outputs": []
    },
    {
      "cell_type": "code",
      "source": [],
      "metadata": {
        "id": "akVku_EO40aG"
      },
      "execution_count": null,
      "outputs": []
    },
    {
      "cell_type": "code",
      "source": [
        "# Máscara de pixels rotulados\n",
        "mask = np.zeros((10, 10), dtype=bool)\n",
        "pixels_anotados = [\n",
        "    (0, 0), (0, 1), (1, 0), (1, 1),  # vegetação\n",
        "    (5, 6), (5, 7), (5, 8), (5, 9),  # solo exposto\n",
        "    (0, 3), (0, 4), (1, 3), (1, 4)  # água\n",
        "]\n",
        "for i, j in pixels_anotados:\n",
        "    mask[i, j] = True"
      ],
      "metadata": {
        "id": "zx9b0_gs0WV1"
      },
      "execution_count": null,
      "outputs": []
    },
    {
      "cell_type": "code",
      "source": [
        "# Rótulos correspondentes aos pixels anotados\n",
        "labels = np.array([\n",
        "    0, 0, 0, 0,        # vegetação\n",
        "    1, 1, 1, 1,        # solo exposto\n",
        "    2, 2, 2, 2        # água\n",
        "])"
      ],
      "metadata": {
        "id": "L6H0bNsh0nkL"
      },
      "execution_count": null,
      "outputs": []
    },
    {
      "cell_type": "code",
      "source": [
        "# Preparar atributos por pixel\n",
        "X = X.reshape(-1, 15)                  # vetor (100, 3)\n",
        "mask_flat = mask.ravel()               # vetor (100,)\n",
        "X_train = X[mask_flat]                 # atributos apenas dos rotulados\n",
        "y_train = labels                       # rótulos 1D"
      ],
      "metadata": {
        "id": "_ROh46u90uRf"
      },
      "execution_count": null,
      "outputs": []
    },
    {
      "cell_type": "code",
      "source": [
        "# Preparar atributos por pixel\n",
        "X = X.reshape(-1, 15)                  # vetor (100, 3)\n",
        "mask_flat = mask.ravel()               # vetor (100,)\n",
        "X_train = X[mask_flat]                 # atributos apenas dos rotulados\n",
        "y_train = labels                       # rótulos 1D"
      ],
      "metadata": {
        "id": "edoea3bC07u-"
      },
      "execution_count": null,
      "outputs": []
    },
    {
      "cell_type": "code",
      "source": [
        "\n",
        "# Previsão para todos os pixels\n",
        "y_pred = clf.predict(X)\n",
        "segmented = y_pred.reshape(10, 10)"
      ],
      "metadata": {
        "id": "vevAu1Bg1EGl"
      },
      "execution_count": null,
      "outputs": []
    },
    {
      "cell_type": "code",
      "source": [
        "# Plot\n",
        "fig, axes = plt.subplots(1, 2, figsize=(8, 4))\n",
        "axes[0].imshow(img)\n",
        "axes[0].set_title(\"Imagem RGB\")\n",
        "axes[0].axis('off')\n",
        "\n",
        "im = axes[1].imshow(segmented, cmap='Accent', vmin=0, vmax=2)\n",
        "axes[1].set_title(\"Segmentação (Random Forest)\")\n",
        "axes[1].axis('off')\n",
        "\n",
        "plt.colorbar(im, ax=axes[1], ticks=[0, 1, 2], label='Classe')\n",
        "plt.tight_layout()\n",
        "plt.show()"
      ],
      "metadata": {
        "id": "pPq1hwfg3MRD"
      },
      "execution_count": null,
      "outputs": []
    }
  ]
}